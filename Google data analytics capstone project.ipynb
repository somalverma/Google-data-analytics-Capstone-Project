{
 "cells": [
  {
   "cell_type": "markdown",
   "id": "bc155183",
   "metadata": {},
   "source": [
    "# Google Data Analytics Capstone Project \n",
    "## Case Study : How Does a Bike-Share Navigate Speedy Success?"
   ]
  },
  {
   "cell_type": "markdown",
   "id": "2bac3fce",
   "metadata": {},
   "source": [
    "### Business task"
   ]
  },
  {
   "cell_type": "markdown",
   "id": "93b85364",
   "metadata": {},
   "source": [
    "The analysts of the **Cyclistic** comapany have calculated that the annual members are much more profitable than casual riders. So, maximizing the number of annual membership will be the key to success for the business. It will be good to convert casual riders into members rather than targeting all new customers. So, the goal is to understand how casual riders and annual members use cyclistic bikes differently so that a strategy can be developed to convert casual riders into annual members.  "
   ]
  },
  {
   "cell_type": "markdown",
   "id": "7954654f",
   "metadata": {},
   "source": [
    "### Importing data"
   ]
  },
  {
   "cell_type": "markdown",
   "id": "f5b04477",
   "metadata": {},
   "source": [
    " **Importing libraries**"
   ]
  },
  {
   "cell_type": "code",
   "execution_count": 1,
   "id": "0ee803d9",
   "metadata": {},
   "outputs": [],
   "source": [
    "import pandas as pd\n",
    "import numpy as np\n",
    "import matplotlib.pyplot as plt\n",
    "import seaborn as sns\n",
    "import datetime"
   ]
  },
  {
   "cell_type": "markdown",
   "id": "d2f5ef84",
   "metadata": {},
   "source": [
    "**Importing the files**"
   ]
  },
  {
   "cell_type": "code",
   "execution_count": 2,
   "id": "a1eaf1ae",
   "metadata": {},
   "outputs": [],
   "source": [
    "M1=pd.read_csv('202101-divvy-tripdata.csv')\n",
    "M2=pd.read_csv('202102-divvy-tripdata.csv')\n",
    "M3=pd.read_csv('202103-divvy-tripdata.csv')\n",
    "M4=pd.read_csv('202104-divvy-tripdata.csv')\n",
    "M5=pd.read_csv('202105-divvy-tripdata.csv')\n",
    "M6=pd.read_csv('202106-divvy-tripdata.csv')\n",
    "M7=pd.read_csv('202107-divvy-tripdata.csv')\n",
    "M8=pd.read_csv('202108-divvy-tripdata.csv')\n",
    "M9=pd.read_csv('202109-divvy-tripdata.csv')\n",
    "M10=pd.read_csv('202110-divvy-tripdata.csv')\n",
    "M11=pd.read_csv('202111-divvy-tripdata.csv')\n",
    "M12=pd.read_csv('202112-divvy-tripdata.csv')\n"
   ]
  },
  {
   "cell_type": "markdown",
   "id": "0e631f98",
   "metadata": {},
   "source": [
    "**Merging all the data for 12 months in a single dataframe**"
   ]
  },
  {
   "cell_type": "code",
   "execution_count": 3,
   "id": "73a621a5",
   "metadata": {},
   "outputs": [],
   "source": [
    "bike_data=pd.concat([M1,M2,M3,M4,M5,M6,M7,M8,M9,M10,M11,M12])"
   ]
  },
  {
   "cell_type": "code",
   "execution_count": 6,
   "id": "cddf66d8",
   "metadata": {},
   "outputs": [
    {
     "data": {
      "text/html": [
       "<div>\n",
       "<style scoped>\n",
       "    .dataframe tbody tr th:only-of-type {\n",
       "        vertical-align: middle;\n",
       "    }\n",
       "\n",
       "    .dataframe tbody tr th {\n",
       "        vertical-align: top;\n",
       "    }\n",
       "\n",
       "    .dataframe thead th {\n",
       "        text-align: right;\n",
       "    }\n",
       "</style>\n",
       "<table border=\"1\" class=\"dataframe\">\n",
       "  <thead>\n",
       "    <tr style=\"text-align: right;\">\n",
       "      <th></th>\n",
       "      <th>ride_id</th>\n",
       "      <th>rideable_type</th>\n",
       "      <th>started_at</th>\n",
       "      <th>ended_at</th>\n",
       "      <th>start_station_name</th>\n",
       "      <th>start_station_id</th>\n",
       "      <th>end_station_name</th>\n",
       "      <th>end_station_id</th>\n",
       "      <th>start_lat</th>\n",
       "      <th>start_lng</th>\n",
       "      <th>end_lat</th>\n",
       "      <th>end_lng</th>\n",
       "      <th>member_casual</th>\n",
       "    </tr>\n",
       "  </thead>\n",
       "  <tbody>\n",
       "    <tr>\n",
       "      <th>0</th>\n",
       "      <td>E19E6F1B8D4C42ED</td>\n",
       "      <td>electric_bike</td>\n",
       "      <td>2021-01-23 16:14:19</td>\n",
       "      <td>2021-01-23 16:24:44</td>\n",
       "      <td>California Ave &amp; Cortez St</td>\n",
       "      <td>17660</td>\n",
       "      <td>NaN</td>\n",
       "      <td>NaN</td>\n",
       "      <td>41.900341</td>\n",
       "      <td>-87.696743</td>\n",
       "      <td>41.890000</td>\n",
       "      <td>-87.720000</td>\n",
       "      <td>member</td>\n",
       "    </tr>\n",
       "    <tr>\n",
       "      <th>1</th>\n",
       "      <td>DC88F20C2C55F27F</td>\n",
       "      <td>electric_bike</td>\n",
       "      <td>2021-01-27 18:43:08</td>\n",
       "      <td>2021-01-27 18:47:12</td>\n",
       "      <td>California Ave &amp; Cortez St</td>\n",
       "      <td>17660</td>\n",
       "      <td>NaN</td>\n",
       "      <td>NaN</td>\n",
       "      <td>41.900333</td>\n",
       "      <td>-87.696707</td>\n",
       "      <td>41.900000</td>\n",
       "      <td>-87.690000</td>\n",
       "      <td>member</td>\n",
       "    </tr>\n",
       "    <tr>\n",
       "      <th>2</th>\n",
       "      <td>EC45C94683FE3F27</td>\n",
       "      <td>electric_bike</td>\n",
       "      <td>2021-01-21 22:35:54</td>\n",
       "      <td>2021-01-21 22:37:14</td>\n",
       "      <td>California Ave &amp; Cortez St</td>\n",
       "      <td>17660</td>\n",
       "      <td>NaN</td>\n",
       "      <td>NaN</td>\n",
       "      <td>41.900313</td>\n",
       "      <td>-87.696643</td>\n",
       "      <td>41.900000</td>\n",
       "      <td>-87.700000</td>\n",
       "      <td>member</td>\n",
       "    </tr>\n",
       "    <tr>\n",
       "      <th>3</th>\n",
       "      <td>4FA453A75AE377DB</td>\n",
       "      <td>electric_bike</td>\n",
       "      <td>2021-01-07 13:31:13</td>\n",
       "      <td>2021-01-07 13:42:55</td>\n",
       "      <td>California Ave &amp; Cortez St</td>\n",
       "      <td>17660</td>\n",
       "      <td>NaN</td>\n",
       "      <td>NaN</td>\n",
       "      <td>41.900399</td>\n",
       "      <td>-87.696662</td>\n",
       "      <td>41.920000</td>\n",
       "      <td>-87.690000</td>\n",
       "      <td>member</td>\n",
       "    </tr>\n",
       "    <tr>\n",
       "      <th>4</th>\n",
       "      <td>BE5E8EB4E7263A0B</td>\n",
       "      <td>electric_bike</td>\n",
       "      <td>2021-01-23 02:24:02</td>\n",
       "      <td>2021-01-23 02:24:45</td>\n",
       "      <td>California Ave &amp; Cortez St</td>\n",
       "      <td>17660</td>\n",
       "      <td>NaN</td>\n",
       "      <td>NaN</td>\n",
       "      <td>41.900326</td>\n",
       "      <td>-87.696697</td>\n",
       "      <td>41.900000</td>\n",
       "      <td>-87.700000</td>\n",
       "      <td>casual</td>\n",
       "    </tr>\n",
       "    <tr>\n",
       "      <th>...</th>\n",
       "      <td>...</td>\n",
       "      <td>...</td>\n",
       "      <td>...</td>\n",
       "      <td>...</td>\n",
       "      <td>...</td>\n",
       "      <td>...</td>\n",
       "      <td>...</td>\n",
       "      <td>...</td>\n",
       "      <td>...</td>\n",
       "      <td>...</td>\n",
       "      <td>...</td>\n",
       "      <td>...</td>\n",
       "      <td>...</td>\n",
       "    </tr>\n",
       "    <tr>\n",
       "      <th>247535</th>\n",
       "      <td>847431F3D5353AB7</td>\n",
       "      <td>electric_bike</td>\n",
       "      <td>2021-12-12 13:36:55</td>\n",
       "      <td>2021-12-12 13:56:08</td>\n",
       "      <td>Canal St &amp; Madison St</td>\n",
       "      <td>13341</td>\n",
       "      <td>NaN</td>\n",
       "      <td>NaN</td>\n",
       "      <td>41.882289</td>\n",
       "      <td>-87.639752</td>\n",
       "      <td>41.890000</td>\n",
       "      <td>-87.610000</td>\n",
       "      <td>casual</td>\n",
       "    </tr>\n",
       "    <tr>\n",
       "      <th>247536</th>\n",
       "      <td>CF407BBC3B9FAD63</td>\n",
       "      <td>electric_bike</td>\n",
       "      <td>2021-12-06 19:37:50</td>\n",
       "      <td>2021-12-06 19:44:51</td>\n",
       "      <td>Canal St &amp; Madison St</td>\n",
       "      <td>13341</td>\n",
       "      <td>Kingsbury St &amp; Kinzie St</td>\n",
       "      <td>KA1503000043</td>\n",
       "      <td>41.882123</td>\n",
       "      <td>-87.640053</td>\n",
       "      <td>41.889106</td>\n",
       "      <td>-87.638862</td>\n",
       "      <td>member</td>\n",
       "    </tr>\n",
       "    <tr>\n",
       "      <th>247537</th>\n",
       "      <td>60BB69EBF5440E92</td>\n",
       "      <td>electric_bike</td>\n",
       "      <td>2021-12-02 08:57:04</td>\n",
       "      <td>2021-12-02 09:05:21</td>\n",
       "      <td>Canal St &amp; Madison St</td>\n",
       "      <td>13341</td>\n",
       "      <td>Dearborn St &amp; Monroe St</td>\n",
       "      <td>TA1305000006</td>\n",
       "      <td>41.881956</td>\n",
       "      <td>-87.639955</td>\n",
       "      <td>41.880254</td>\n",
       "      <td>-87.629603</td>\n",
       "      <td>member</td>\n",
       "    </tr>\n",
       "    <tr>\n",
       "      <th>247538</th>\n",
       "      <td>C414F654A28635B8</td>\n",
       "      <td>electric_bike</td>\n",
       "      <td>2021-12-13 09:00:26</td>\n",
       "      <td>2021-12-13 09:14:39</td>\n",
       "      <td>Lawndale Ave &amp; 16th St</td>\n",
       "      <td>362.0</td>\n",
       "      <td>NaN</td>\n",
       "      <td>NaN</td>\n",
       "      <td>41.860000</td>\n",
       "      <td>-87.720000</td>\n",
       "      <td>41.850000</td>\n",
       "      <td>-87.710000</td>\n",
       "      <td>member</td>\n",
       "    </tr>\n",
       "    <tr>\n",
       "      <th>247539</th>\n",
       "      <td>37AC57E34B2E7E97</td>\n",
       "      <td>classic_bike</td>\n",
       "      <td>2021-12-13 08:45:32</td>\n",
       "      <td>2021-12-13 08:49:09</td>\n",
       "      <td>Michigan Ave &amp; Jackson Blvd</td>\n",
       "      <td>TA1309000002</td>\n",
       "      <td>Dearborn St &amp; Monroe St</td>\n",
       "      <td>TA1305000006</td>\n",
       "      <td>41.877850</td>\n",
       "      <td>-87.624080</td>\n",
       "      <td>41.881320</td>\n",
       "      <td>-87.629521</td>\n",
       "      <td>member</td>\n",
       "    </tr>\n",
       "  </tbody>\n",
       "</table>\n",
       "<p>5595063 rows × 13 columns</p>\n",
       "</div>"
      ],
      "text/plain": [
       "                 ride_id  rideable_type           started_at  \\\n",
       "0       E19E6F1B8D4C42ED  electric_bike  2021-01-23 16:14:19   \n",
       "1       DC88F20C2C55F27F  electric_bike  2021-01-27 18:43:08   \n",
       "2       EC45C94683FE3F27  electric_bike  2021-01-21 22:35:54   \n",
       "3       4FA453A75AE377DB  electric_bike  2021-01-07 13:31:13   \n",
       "4       BE5E8EB4E7263A0B  electric_bike  2021-01-23 02:24:02   \n",
       "...                  ...            ...                  ...   \n",
       "247535  847431F3D5353AB7  electric_bike  2021-12-12 13:36:55   \n",
       "247536  CF407BBC3B9FAD63  electric_bike  2021-12-06 19:37:50   \n",
       "247537  60BB69EBF5440E92  electric_bike  2021-12-02 08:57:04   \n",
       "247538  C414F654A28635B8  electric_bike  2021-12-13 09:00:26   \n",
       "247539  37AC57E34B2E7E97   classic_bike  2021-12-13 08:45:32   \n",
       "\n",
       "                   ended_at           start_station_name start_station_id  \\\n",
       "0       2021-01-23 16:24:44   California Ave & Cortez St            17660   \n",
       "1       2021-01-27 18:47:12   California Ave & Cortez St            17660   \n",
       "2       2021-01-21 22:37:14   California Ave & Cortez St            17660   \n",
       "3       2021-01-07 13:42:55   California Ave & Cortez St            17660   \n",
       "4       2021-01-23 02:24:45   California Ave & Cortez St            17660   \n",
       "...                     ...                          ...              ...   \n",
       "247535  2021-12-12 13:56:08        Canal St & Madison St            13341   \n",
       "247536  2021-12-06 19:44:51        Canal St & Madison St            13341   \n",
       "247537  2021-12-02 09:05:21        Canal St & Madison St            13341   \n",
       "247538  2021-12-13 09:14:39       Lawndale Ave & 16th St            362.0   \n",
       "247539  2021-12-13 08:49:09  Michigan Ave & Jackson Blvd     TA1309000002   \n",
       "\n",
       "                end_station_name end_station_id  start_lat  start_lng  \\\n",
       "0                            NaN            NaN  41.900341 -87.696743   \n",
       "1                            NaN            NaN  41.900333 -87.696707   \n",
       "2                            NaN            NaN  41.900313 -87.696643   \n",
       "3                            NaN            NaN  41.900399 -87.696662   \n",
       "4                            NaN            NaN  41.900326 -87.696697   \n",
       "...                          ...            ...        ...        ...   \n",
       "247535                       NaN            NaN  41.882289 -87.639752   \n",
       "247536  Kingsbury St & Kinzie St   KA1503000043  41.882123 -87.640053   \n",
       "247537   Dearborn St & Monroe St   TA1305000006  41.881956 -87.639955   \n",
       "247538                       NaN            NaN  41.860000 -87.720000   \n",
       "247539   Dearborn St & Monroe St   TA1305000006  41.877850 -87.624080   \n",
       "\n",
       "          end_lat    end_lng member_casual  \n",
       "0       41.890000 -87.720000        member  \n",
       "1       41.900000 -87.690000        member  \n",
       "2       41.900000 -87.700000        member  \n",
       "3       41.920000 -87.690000        member  \n",
       "4       41.900000 -87.700000        casual  \n",
       "...           ...        ...           ...  \n",
       "247535  41.890000 -87.610000        casual  \n",
       "247536  41.889106 -87.638862        member  \n",
       "247537  41.880254 -87.629603        member  \n",
       "247538  41.850000 -87.710000        member  \n",
       "247539  41.881320 -87.629521        member  \n",
       "\n",
       "[5595063 rows x 13 columns]"
      ]
     },
     "execution_count": 6,
     "metadata": {},
     "output_type": "execute_result"
    }
   ],
   "source": [
    "# Reading the merged data\n",
    "bike_data"
   ]
  },
  {
   "cell_type": "code",
   "execution_count": 7,
   "id": "09ce03da",
   "metadata": {},
   "outputs": [
    {
     "data": {
      "text/plain": [
       "(5595063, 13)"
      ]
     },
     "execution_count": 7,
     "metadata": {},
     "output_type": "execute_result"
    }
   ],
   "source": [
    "# Shape of the data\n",
    "bike_data.shape"
   ]
  },
  {
   "cell_type": "markdown",
   "id": "24d2d633",
   "metadata": {},
   "source": [
    "## Data Cleaning and Manipulation"
   ]
  },
  {
   "cell_type": "code",
   "execution_count": 8,
   "id": "cced0a19",
   "metadata": {},
   "outputs": [
    {
     "name": "stdout",
     "output_type": "stream",
     "text": [
      "<class 'pandas.core.frame.DataFrame'>\n",
      "Int64Index: 5595063 entries, 0 to 247539\n",
      "Data columns (total 13 columns):\n",
      " #   Column              Dtype  \n",
      "---  ------              -----  \n",
      " 0   ride_id             object \n",
      " 1   rideable_type       object \n",
      " 2   started_at          object \n",
      " 3   ended_at            object \n",
      " 4   start_station_name  object \n",
      " 5   start_station_id    object \n",
      " 6   end_station_name    object \n",
      " 7   end_station_id      object \n",
      " 8   start_lat           float64\n",
      " 9   start_lng           float64\n",
      " 10  end_lat             float64\n",
      " 11  end_lng             float64\n",
      " 12  member_casual       object \n",
      "dtypes: float64(4), object(9)\n",
      "memory usage: 597.6+ MB\n"
     ]
    }
   ],
   "source": [
    "# Info of the data\n",
    "bike_data.info()"
   ]
  },
  {
   "cell_type": "markdown",
   "id": "21e95209",
   "metadata": {},
   "source": [
    "**Here we can see that the started at and ended at are having object data type, so let's convert these into datetime data type**"
   ]
  },
  {
   "cell_type": "code",
   "execution_count": 4,
   "id": "2f9af3b7",
   "metadata": {},
   "outputs": [],
   "source": [
    "# Converting Object data type of start_time and end_time into datetime data type\n",
    "bike_data['start_time']=pd.to_datetime(bike_data['started_at'])\n",
    "bike_data['end_time']=pd.to_datetime(bike_data['ended_at'])"
   ]
  },
  {
   "cell_type": "code",
   "execution_count": 5,
   "id": "013e1056",
   "metadata": {},
   "outputs": [
    {
     "data": {
      "text/plain": [
       "0        0 days 00:10:25\n",
       "1        0 days 00:04:04\n",
       "2        0 days 00:01:20\n",
       "3        0 days 00:11:42\n",
       "4        0 days 00:00:43\n",
       "               ...      \n",
       "247535   0 days 00:19:13\n",
       "247536   0 days 00:07:01\n",
       "247537   0 days 00:08:17\n",
       "247538   0 days 00:14:13\n",
       "247539   0 days 00:03:37\n",
       "Name: ride_length, Length: 5595063, dtype: timedelta64[ns]"
      ]
     },
     "execution_count": 5,
     "metadata": {},
     "output_type": "execute_result"
    }
   ],
   "source": [
    "# Adding new column for ride length to calculate the total time travelled by the rider\n",
    "bike_data['ride_length']=bike_data['end_time']-bike_data['start_time']\n",
    "bike_data['ride_length']"
   ]
  },
  {
   "cell_type": "code",
   "execution_count": 6,
   "id": "fbe1c031",
   "metadata": {},
   "outputs": [
    {
     "name": "stdout",
     "output_type": "stream",
     "text": [
      "<class 'pandas.core.frame.DataFrame'>\n",
      "Int64Index: 5595063 entries, 0 to 247539\n",
      "Data columns (total 16 columns):\n",
      " #   Column              Dtype          \n",
      "---  ------              -----          \n",
      " 0   ride_id             object         \n",
      " 1   rideable_type       object         \n",
      " 2   started_at          object         \n",
      " 3   ended_at            object         \n",
      " 4   start_station_name  object         \n",
      " 5   start_station_id    object         \n",
      " 6   end_station_name    object         \n",
      " 7   end_station_id      object         \n",
      " 8   start_lat           float64        \n",
      " 9   start_lng           float64        \n",
      " 10  end_lat             float64        \n",
      " 11  end_lng             float64        \n",
      " 12  member_casual       object         \n",
      " 13  start_time          datetime64[ns] \n",
      " 14  end_time            datetime64[ns] \n",
      " 15  ride_length         timedelta64[ns]\n",
      "dtypes: datetime64[ns](2), float64(4), object(9), timedelta64[ns](1)\n",
      "memory usage: 725.7+ MB\n"
     ]
    }
   ],
   "source": [
    "# Updated Info\n",
    "bike_data.info()"
   ]
  },
  {
   "cell_type": "code",
   "execution_count": 7,
   "id": "7ec30a28",
   "metadata": {},
   "outputs": [
    {
     "data": {
      "text/plain": [
       "0        2021-01-23\n",
       "1        2021-01-27\n",
       "2        2021-01-21\n",
       "3        2021-01-07\n",
       "4        2021-01-23\n",
       "            ...    \n",
       "247535   2021-12-12\n",
       "247536   2021-12-06\n",
       "247537   2021-12-02\n",
       "247538   2021-12-13\n",
       "247539   2021-12-13\n",
       "Name: start_date, Length: 5595063, dtype: datetime64[ns]"
      ]
     },
     "execution_count": 7,
     "metadata": {},
     "output_type": "execute_result"
    }
   ],
   "source": [
    "#Extracting date from started_at column and converting the datatype into datetime datatype\n",
    "bike_data['start_date']=[i.split(\" \")[0] for i in bike_data['started_at']]\n",
    "bike_data['start_date']=pd.to_datetime(bike_data['start_date'])\n",
    "bike_data['start_date']"
   ]
  },
  {
   "cell_type": "code",
   "execution_count": 8,
   "id": "7ff54bb9",
   "metadata": {},
   "outputs": [
    {
     "data": {
      "text/plain": [
       "array([5, 2, 3, 0, 6, 4, 1], dtype=int64)"
      ]
     },
     "execution_count": 8,
     "metadata": {},
     "output_type": "execute_result"
    }
   ],
   "source": [
    "# Finding weekday from the start_date\n",
    "bike_data['week_day']=bike_data['start_date'].apply(lambda x: x.weekday())\n",
    "bike_data['week_day'].unique()\n"
   ]
  },
  {
   "cell_type": "code",
   "execution_count": 9,
   "id": "40f6172d",
   "metadata": {},
   "outputs": [
    {
     "data": {
      "text/plain": [
       "0            Friday\n",
       "1           Tuesday\n",
       "2         Wednesday\n",
       "3         Wednesday\n",
       "4            Friday\n",
       "            ...    \n",
       "247535     Saturday\n",
       "247536       Sunday\n",
       "247537    Wednesday\n",
       "247538       Sunday\n",
       "247539       Sunday\n",
       "Name: week_day, Length: 5595063, dtype: object"
      ]
     },
     "execution_count": 9,
     "metadata": {},
     "output_type": "execute_result"
    }
   ],
   "source": [
    "# Converting week_day values into weekday\n",
    "dict={0:'Sunday',1:'Monday',2:'Tuesday',3:'Wednesday',4:'Thursday',5:'Friday',6:'Saturday'}\n",
    "bike_data['week_day']=bike_data['week_day'].apply(lambda y: dict[y])\n",
    "bike_data['week_day']"
   ]
  },
  {
   "cell_type": "code",
   "execution_count": 10,
   "id": "2ea3d8bb",
   "metadata": {},
   "outputs": [],
   "source": [
    "# Sorting data in ascending order of start time\n",
    "bike_data.sort_values(by=['started_at'],inplace=True,ascending=True)"
   ]
  },
  {
   "cell_type": "code",
   "execution_count": 11,
   "id": "94f0be8c",
   "metadata": {},
   "outputs": [],
   "source": [
    "# Dropping rows with null values\n",
    "bike_data1=bike_data.dropna()"
   ]
  },
  {
   "cell_type": "code",
   "execution_count": 18,
   "id": "932f5011",
   "metadata": {},
   "outputs": [],
   "source": [
    "# Saving cleaned file for further transformation\n",
    "bike_data1.to_csv('Cleaned_bike_data.csv')"
   ]
  },
  {
   "cell_type": "code",
   "execution_count": 12,
   "id": "37a99bb9",
   "metadata": {},
   "outputs": [
    {
     "data": {
      "text/html": [
       "<div>\n",
       "<style scoped>\n",
       "    .dataframe tbody tr th:only-of-type {\n",
       "        vertical-align: middle;\n",
       "    }\n",
       "\n",
       "    .dataframe tbody tr th {\n",
       "        vertical-align: top;\n",
       "    }\n",
       "\n",
       "    .dataframe thead th {\n",
       "        text-align: right;\n",
       "    }\n",
       "</style>\n",
       "<table border=\"1\" class=\"dataframe\">\n",
       "  <thead>\n",
       "    <tr style=\"text-align: right;\">\n",
       "      <th></th>\n",
       "      <th>Unnamed: 0</th>\n",
       "      <th>ride_id</th>\n",
       "      <th>rideable_type</th>\n",
       "      <th>started_at</th>\n",
       "      <th>ended_at</th>\n",
       "      <th>start_station_name</th>\n",
       "      <th>start_station_id</th>\n",
       "      <th>end_station_name</th>\n",
       "      <th>end_station_id</th>\n",
       "      <th>start_lat</th>\n",
       "      <th>start_lng</th>\n",
       "      <th>end_lat</th>\n",
       "      <th>end_lng</th>\n",
       "      <th>member_casual</th>\n",
       "      <th>start_time</th>\n",
       "      <th>end_time</th>\n",
       "      <th>ride_length</th>\n",
       "      <th>start_date</th>\n",
       "      <th>week_day</th>\n",
       "    </tr>\n",
       "  </thead>\n",
       "  <tbody>\n",
       "    <tr>\n",
       "      <th>0</th>\n",
       "      <td>17801</td>\n",
       "      <td>FAC81448E15B3C05</td>\n",
       "      <td>classic_bike</td>\n",
       "      <td>2/1/2021 10:01</td>\n",
       "      <td>2/1/2021 10:05</td>\n",
       "      <td>Wells St &amp; Polk St</td>\n",
       "      <td>SL-011</td>\n",
       "      <td>State St &amp; Harrison St</td>\n",
       "      <td>SL-007</td>\n",
       "      <td>41.872596</td>\n",
       "      <td>-87.633502</td>\n",
       "      <td>41.874053</td>\n",
       "      <td>-87.627716</td>\n",
       "      <td>member</td>\n",
       "      <td>2021-02-01 10:01:00</td>\n",
       "      <td>2021-02-01 10:05:00</td>\n",
       "      <td>0 days 00:04:00</td>\n",
       "      <td>2021-02-01 00:00:00</td>\n",
       "      <td>Sunday</td>\n",
       "    </tr>\n",
       "    <tr>\n",
       "      <th>1</th>\n",
       "      <td>26708</td>\n",
       "      <td>D4795A47726841B2</td>\n",
       "      <td>classic_bike</td>\n",
       "      <td>2/1/2021 10:02</td>\n",
       "      <td>2/1/2021 10:08</td>\n",
       "      <td>Dearborn St &amp; Erie St</td>\n",
       "      <td>13045</td>\n",
       "      <td>Franklin St &amp; Chicago Ave</td>\n",
       "      <td>13017</td>\n",
       "      <td>41.893992</td>\n",
       "      <td>-87.629318</td>\n",
       "      <td>41.896747</td>\n",
       "      <td>-87.635668</td>\n",
       "      <td>member</td>\n",
       "      <td>2021-02-01 10:02:00</td>\n",
       "      <td>2021-02-01 10:08:00</td>\n",
       "      <td>0 days 00:06:00</td>\n",
       "      <td>2021-02-01 00:00:00</td>\n",
       "      <td>Sunday</td>\n",
       "    </tr>\n",
       "    <tr>\n",
       "      <th>2</th>\n",
       "      <td>11071</td>\n",
       "      <td>85A06CF61EE5B1CE</td>\n",
       "      <td>classic_bike</td>\n",
       "      <td>2/1/2021 10:03</td>\n",
       "      <td>2/1/2021 10:14</td>\n",
       "      <td>Benson Ave &amp; Church St</td>\n",
       "      <td>596</td>\n",
       "      <td>Chicago Ave &amp; Washington St</td>\n",
       "      <td>E002</td>\n",
       "      <td>42.048214</td>\n",
       "      <td>-87.683485</td>\n",
       "      <td>42.032562</td>\n",
       "      <td>-87.679101</td>\n",
       "      <td>member</td>\n",
       "      <td>2021-02-01 10:03:00</td>\n",
       "      <td>2021-02-01 10:14:00</td>\n",
       "      <td>0 days 00:11:00</td>\n",
       "      <td>2021-02-01 00:00:00</td>\n",
       "      <td>Sunday</td>\n",
       "    </tr>\n",
       "    <tr>\n",
       "      <th>3</th>\n",
       "      <td>8671</td>\n",
       "      <td>61BBED9F6F7E0D9B</td>\n",
       "      <td>classic_bike</td>\n",
       "      <td>2/1/2021 10:04</td>\n",
       "      <td>2/1/2021 10:15</td>\n",
       "      <td>Wabash Ave &amp; 9th St</td>\n",
       "      <td>TA1309000010</td>\n",
       "      <td>Dearborn St &amp; Monroe St</td>\n",
       "      <td>TA1305000006</td>\n",
       "      <td>41.870769</td>\n",
       "      <td>-87.625734</td>\n",
       "      <td>41.881320</td>\n",
       "      <td>-87.629521</td>\n",
       "      <td>member</td>\n",
       "      <td>2021-02-01 10:04:00</td>\n",
       "      <td>2021-02-01 10:15:00</td>\n",
       "      <td>0 days 00:11:00</td>\n",
       "      <td>2021-02-01 00:00:00</td>\n",
       "      <td>Sunday</td>\n",
       "    </tr>\n",
       "    <tr>\n",
       "      <th>4</th>\n",
       "      <td>42741</td>\n",
       "      <td>8237FF0F89A56016</td>\n",
       "      <td>electric_bike</td>\n",
       "      <td>2/1/2021 10:04</td>\n",
       "      <td>2/1/2021 11:39</td>\n",
       "      <td>Orleans St &amp; Merchandise Mart Plaza</td>\n",
       "      <td>TA1305000022</td>\n",
       "      <td>Wells St &amp; Hubbard St</td>\n",
       "      <td>TA1307000151</td>\n",
       "      <td>41.887968</td>\n",
       "      <td>-87.636742</td>\n",
       "      <td>41.889646</td>\n",
       "      <td>-87.634283</td>\n",
       "      <td>member</td>\n",
       "      <td>2021-02-01 10:04:00</td>\n",
       "      <td>2021-02-01 11:39:00</td>\n",
       "      <td>0 days 01:35:00</td>\n",
       "      <td>2021-02-01 00:00:00</td>\n",
       "      <td>Sunday</td>\n",
       "    </tr>\n",
       "  </tbody>\n",
       "</table>\n",
       "</div>"
      ],
      "text/plain": [
       "   Unnamed: 0           ride_id  rideable_type      started_at  \\\n",
       "0       17801  FAC81448E15B3C05   classic_bike  2/1/2021 10:01   \n",
       "1       26708  D4795A47726841B2   classic_bike  2/1/2021 10:02   \n",
       "2       11071  85A06CF61EE5B1CE   classic_bike  2/1/2021 10:03   \n",
       "3        8671  61BBED9F6F7E0D9B   classic_bike  2/1/2021 10:04   \n",
       "4       42741  8237FF0F89A56016  electric_bike  2/1/2021 10:04   \n",
       "\n",
       "         ended_at                   start_station_name start_station_id  \\\n",
       "0  2/1/2021 10:05                   Wells St & Polk St           SL-011   \n",
       "1  2/1/2021 10:08                Dearborn St & Erie St            13045   \n",
       "2  2/1/2021 10:14               Benson Ave & Church St              596   \n",
       "3  2/1/2021 10:15                  Wabash Ave & 9th St     TA1309000010   \n",
       "4  2/1/2021 11:39  Orleans St & Merchandise Mart Plaza     TA1305000022   \n",
       "\n",
       "              end_station_name end_station_id  start_lat  start_lng  \\\n",
       "0       State St & Harrison St         SL-007  41.872596 -87.633502   \n",
       "1    Franklin St & Chicago Ave          13017  41.893992 -87.629318   \n",
       "2  Chicago Ave & Washington St           E002  42.048214 -87.683485   \n",
       "3      Dearborn St & Monroe St   TA1305000006  41.870769 -87.625734   \n",
       "4        Wells St & Hubbard St   TA1307000151  41.887968 -87.636742   \n",
       "\n",
       "     end_lat    end_lng member_casual           start_time  \\\n",
       "0  41.874053 -87.627716        member  2021-02-01 10:01:00   \n",
       "1  41.896747 -87.635668        member  2021-02-01 10:02:00   \n",
       "2  42.032562 -87.679101        member  2021-02-01 10:03:00   \n",
       "3  41.881320 -87.629521        member  2021-02-01 10:04:00   \n",
       "4  41.889646 -87.634283        member  2021-02-01 10:04:00   \n",
       "\n",
       "              end_time      ride_length           start_date week_day  \n",
       "0  2021-02-01 10:05:00  0 days 00:04:00  2021-02-01 00:00:00   Sunday  \n",
       "1  2021-02-01 10:08:00  0 days 00:06:00  2021-02-01 00:00:00   Sunday  \n",
       "2  2021-02-01 10:14:00  0 days 00:11:00  2021-02-01 00:00:00   Sunday  \n",
       "3  2021-02-01 10:15:00  0 days 00:11:00  2021-02-01 00:00:00   Sunday  \n",
       "4  2021-02-01 11:39:00  0 days 01:35:00  2021-02-01 00:00:00   Sunday  "
      ]
     },
     "execution_count": 12,
     "metadata": {},
     "output_type": "execute_result"
    }
   ],
   "source": [
    "C_bike_data=pd.read_csv('Cleaned_bike_data.csv')\n",
    "C_bike_data.head()"
   ]
  },
  {
   "cell_type": "code",
   "execution_count": 13,
   "id": "295d2408",
   "metadata": {},
   "outputs": [
    {
     "data": {
      "text/plain": [
       "0          0.005967\n",
       "1          0.006922\n",
       "2          0.016254\n",
       "3          0.011210\n",
       "4          0.002977\n",
       "             ...   \n",
       "4588297    0.019518\n",
       "4588298    0.018936\n",
       "4588299    0.000770\n",
       "4588300    0.017074\n",
       "4588301    0.005254\n",
       "Name: distance, Length: 4588302, dtype: float64"
      ]
     },
     "execution_count": 13,
     "metadata": {},
     "output_type": "execute_result"
    }
   ],
   "source": [
    "# To calculate euclidean distance between start and end point\n",
    "C_bike_data[\"x\"]=(C_bike_data[\"end_lat\"]-C_bike_data[\"start_lat\"])**2\n",
    "C_bike_data[\"y\"]=(C_bike_data[\"end_lng\"]-C_bike_data[\"start_lng\"])**2\n",
    "C_bike_data[\"distance\"]=(C_bike_data[\"x\"]+C_bike_data[\"y\"])**(1/2)\n",
    "C_bike_data[\"distance\"]"
   ]
  },
  {
   "cell_type": "code",
   "execution_count": 14,
   "id": "8a41854e",
   "metadata": {},
   "outputs": [],
   "source": [
    "# To extract year and month from start date column\n",
    "C_bike_data['year']=pd.DatetimeIndex(C_bike_data['start_date']).year\n",
    "C_bike_data['month']=pd.DatetimeIndex(C_bike_data['start_date']).month"
   ]
  },
  {
   "cell_type": "code",
   "execution_count": 15,
   "id": "32391bac",
   "metadata": {},
   "outputs": [
    {
     "data": {
      "text/html": [
       "<div>\n",
       "<style scoped>\n",
       "    .dataframe tbody tr th:only-of-type {\n",
       "        vertical-align: middle;\n",
       "    }\n",
       "\n",
       "    .dataframe tbody tr th {\n",
       "        vertical-align: top;\n",
       "    }\n",
       "\n",
       "    .dataframe thead th {\n",
       "        text-align: right;\n",
       "    }\n",
       "</style>\n",
       "<table border=\"1\" class=\"dataframe\">\n",
       "  <thead>\n",
       "    <tr style=\"text-align: right;\">\n",
       "      <th></th>\n",
       "      <th>Unnamed: 0</th>\n",
       "      <th>ride_id</th>\n",
       "      <th>rideable_type</th>\n",
       "      <th>started_at</th>\n",
       "      <th>ended_at</th>\n",
       "      <th>start_station_name</th>\n",
       "      <th>start_station_id</th>\n",
       "      <th>end_station_name</th>\n",
       "      <th>end_station_id</th>\n",
       "      <th>start_lat</th>\n",
       "      <th>...</th>\n",
       "      <th>end_time</th>\n",
       "      <th>ride_length</th>\n",
       "      <th>start_date</th>\n",
       "      <th>week_day</th>\n",
       "      <th>x</th>\n",
       "      <th>y</th>\n",
       "      <th>distance</th>\n",
       "      <th>year</th>\n",
       "      <th>month</th>\n",
       "      <th>ride_len</th>\n",
       "    </tr>\n",
       "  </thead>\n",
       "  <tbody>\n",
       "    <tr>\n",
       "      <th>0</th>\n",
       "      <td>17801</td>\n",
       "      <td>FAC81448E15B3C05</td>\n",
       "      <td>classic_bike</td>\n",
       "      <td>2/1/2021 10:01</td>\n",
       "      <td>2/1/2021 10:05</td>\n",
       "      <td>Wells St &amp; Polk St</td>\n",
       "      <td>SL-011</td>\n",
       "      <td>State St &amp; Harrison St</td>\n",
       "      <td>SL-007</td>\n",
       "      <td>41.872596</td>\n",
       "      <td>...</td>\n",
       "      <td>2021-02-01 10:05:00</td>\n",
       "      <td>0 days 00:04:00</td>\n",
       "      <td>2021-02-01 00:00:00</td>\n",
       "      <td>Sunday</td>\n",
       "      <td>2.122849e-06</td>\n",
       "      <td>3.347780e-05</td>\n",
       "      <td>0.005967</td>\n",
       "      <td>2021</td>\n",
       "      <td>2</td>\n",
       "      <td>0 days 00:04:00</td>\n",
       "    </tr>\n",
       "    <tr>\n",
       "      <th>1</th>\n",
       "      <td>26708</td>\n",
       "      <td>D4795A47726841B2</td>\n",
       "      <td>classic_bike</td>\n",
       "      <td>2/1/2021 10:02</td>\n",
       "      <td>2/1/2021 10:08</td>\n",
       "      <td>Dearborn St &amp; Erie St</td>\n",
       "      <td>13045</td>\n",
       "      <td>Franklin St &amp; Chicago Ave</td>\n",
       "      <td>13017</td>\n",
       "      <td>41.893992</td>\n",
       "      <td>...</td>\n",
       "      <td>2021-02-01 10:08:00</td>\n",
       "      <td>0 days 00:06:00</td>\n",
       "      <td>2021-02-01 00:00:00</td>\n",
       "      <td>Sunday</td>\n",
       "      <td>7.589860e-06</td>\n",
       "      <td>4.031767e-05</td>\n",
       "      <td>0.006922</td>\n",
       "      <td>2021</td>\n",
       "      <td>2</td>\n",
       "      <td>0 days 00:06:00</td>\n",
       "    </tr>\n",
       "    <tr>\n",
       "      <th>2</th>\n",
       "      <td>11071</td>\n",
       "      <td>85A06CF61EE5B1CE</td>\n",
       "      <td>classic_bike</td>\n",
       "      <td>2/1/2021 10:03</td>\n",
       "      <td>2/1/2021 10:14</td>\n",
       "      <td>Benson Ave &amp; Church St</td>\n",
       "      <td>596</td>\n",
       "      <td>Chicago Ave &amp; Washington St</td>\n",
       "      <td>E002</td>\n",
       "      <td>42.048214</td>\n",
       "      <td>...</td>\n",
       "      <td>2021-02-01 10:14:00</td>\n",
       "      <td>0 days 00:11:00</td>\n",
       "      <td>2021-02-01 00:00:00</td>\n",
       "      <td>Sunday</td>\n",
       "      <td>2.449851e-04</td>\n",
       "      <td>1.921946e-05</td>\n",
       "      <td>0.016254</td>\n",
       "      <td>2021</td>\n",
       "      <td>2</td>\n",
       "      <td>0 days 00:11:00</td>\n",
       "    </tr>\n",
       "    <tr>\n",
       "      <th>3</th>\n",
       "      <td>8671</td>\n",
       "      <td>61BBED9F6F7E0D9B</td>\n",
       "      <td>classic_bike</td>\n",
       "      <td>2/1/2021 10:04</td>\n",
       "      <td>2/1/2021 10:15</td>\n",
       "      <td>Wabash Ave &amp; 9th St</td>\n",
       "      <td>TA1309000010</td>\n",
       "      <td>Dearborn St &amp; Monroe St</td>\n",
       "      <td>TA1305000006</td>\n",
       "      <td>41.870769</td>\n",
       "      <td>...</td>\n",
       "      <td>2021-02-01 10:15:00</td>\n",
       "      <td>0 days 00:11:00</td>\n",
       "      <td>2021-02-01 00:00:00</td>\n",
       "      <td>Sunday</td>\n",
       "      <td>1.113198e-04</td>\n",
       "      <td>1.434076e-05</td>\n",
       "      <td>0.011210</td>\n",
       "      <td>2021</td>\n",
       "      <td>2</td>\n",
       "      <td>0 days 00:11:00</td>\n",
       "    </tr>\n",
       "    <tr>\n",
       "      <th>4</th>\n",
       "      <td>42741</td>\n",
       "      <td>8237FF0F89A56016</td>\n",
       "      <td>electric_bike</td>\n",
       "      <td>2/1/2021 10:04</td>\n",
       "      <td>2/1/2021 11:39</td>\n",
       "      <td>Orleans St &amp; Merchandise Mart Plaza</td>\n",
       "      <td>TA1305000022</td>\n",
       "      <td>Wells St &amp; Hubbard St</td>\n",
       "      <td>TA1307000151</td>\n",
       "      <td>41.887968</td>\n",
       "      <td>...</td>\n",
       "      <td>2021-02-01 11:39:00</td>\n",
       "      <td>0 days 01:35:00</td>\n",
       "      <td>2021-02-01 00:00:00</td>\n",
       "      <td>Sunday</td>\n",
       "      <td>2.815114e-06</td>\n",
       "      <td>6.047517e-06</td>\n",
       "      <td>0.002977</td>\n",
       "      <td>2021</td>\n",
       "      <td>2</td>\n",
       "      <td>0 days 01:35:00</td>\n",
       "    </tr>\n",
       "    <tr>\n",
       "      <th>...</th>\n",
       "      <td>...</td>\n",
       "      <td>...</td>\n",
       "      <td>...</td>\n",
       "      <td>...</td>\n",
       "      <td>...</td>\n",
       "      <td>...</td>\n",
       "      <td>...</td>\n",
       "      <td>...</td>\n",
       "      <td>...</td>\n",
       "      <td>...</td>\n",
       "      <td>...</td>\n",
       "      <td>...</td>\n",
       "      <td>...</td>\n",
       "      <td>...</td>\n",
       "      <td>...</td>\n",
       "      <td>...</td>\n",
       "      <td>...</td>\n",
       "      <td>...</td>\n",
       "      <td>...</td>\n",
       "      <td>...</td>\n",
       "      <td>...</td>\n",
       "    </tr>\n",
       "    <tr>\n",
       "      <th>4588297</th>\n",
       "      <td>131716</td>\n",
       "      <td>7B3D0E8AB0842D5E</td>\n",
       "      <td>classic_bike</td>\n",
       "      <td>2021-12-31 23:58:21</td>\n",
       "      <td>2022-01-01 00:46:56</td>\n",
       "      <td>Michigan Ave &amp; Lake St</td>\n",
       "      <td>TA1305000011</td>\n",
       "      <td>Clinton St &amp; Tilden St</td>\n",
       "      <td>13037</td>\n",
       "      <td>41.886024</td>\n",
       "      <td>...</td>\n",
       "      <td>2022-01-01 00:46:56</td>\n",
       "      <td>0 days 00:48:35</td>\n",
       "      <td>2021-12-31 00:00:00</td>\n",
       "      <td>Thursday</td>\n",
       "      <td>1.027993e-04</td>\n",
       "      <td>2.781557e-04</td>\n",
       "      <td>0.019518</td>\n",
       "      <td>2021</td>\n",
       "      <td>12</td>\n",
       "      <td>0 days 00:48:35</td>\n",
       "    </tr>\n",
       "    <tr>\n",
       "      <th>4588298</th>\n",
       "      <td>131717</td>\n",
       "      <td>B5AEBEF3B5F41C77</td>\n",
       "      <td>electric_bike</td>\n",
       "      <td>2021-12-31 23:58:45</td>\n",
       "      <td>2022-01-01 00:47:07</td>\n",
       "      <td>Michigan Ave &amp; Lake St</td>\n",
       "      <td>TA1305000011</td>\n",
       "      <td>Clinton St &amp; Tilden St</td>\n",
       "      <td>13037</td>\n",
       "      <td>41.885992</td>\n",
       "      <td>...</td>\n",
       "      <td>2022-01-01 00:47:07</td>\n",
       "      <td>0 days 00:48:22</td>\n",
       "      <td>2021-12-31 00:00:00</td>\n",
       "      <td>Thursday</td>\n",
       "      <td>1.021548e-04</td>\n",
       "      <td>2.564268e-04</td>\n",
       "      <td>0.018936</td>\n",
       "      <td>2021</td>\n",
       "      <td>12</td>\n",
       "      <td>0 days 00:48:22</td>\n",
       "    </tr>\n",
       "    <tr>\n",
       "      <th>4588299</th>\n",
       "      <td>47588</td>\n",
       "      <td>CE1BE016BCE85CCB</td>\n",
       "      <td>electric_bike</td>\n",
       "      <td>2021-12-31 23:59:27</td>\n",
       "      <td>2022-01-01 00:32:34</td>\n",
       "      <td>Clark St &amp; Ida B Wells Dr</td>\n",
       "      <td>TA1305000009</td>\n",
       "      <td>Clark St &amp; Ida B Wells Dr</td>\n",
       "      <td>TA1305000009</td>\n",
       "      <td>41.875831</td>\n",
       "      <td>...</td>\n",
       "      <td>2022-01-01 00:32:34</td>\n",
       "      <td>0 days 00:33:07</td>\n",
       "      <td>2021-12-31 00:00:00</td>\n",
       "      <td>Thursday</td>\n",
       "      <td>1.023446e-08</td>\n",
       "      <td>5.828780e-07</td>\n",
       "      <td>0.000770</td>\n",
       "      <td>2021</td>\n",
       "      <td>12</td>\n",
       "      <td>0 days 00:33:07</td>\n",
       "    </tr>\n",
       "    <tr>\n",
       "      <th>4588300</th>\n",
       "      <td>52286</td>\n",
       "      <td>B0466FF51982DE4B</td>\n",
       "      <td>electric_bike</td>\n",
       "      <td>2021-12-31 23:59:39</td>\n",
       "      <td>2022-01-01 00:21:08</td>\n",
       "      <td>Millennium Park</td>\n",
       "      <td>13008</td>\n",
       "      <td>Michigan Ave &amp; 14th St</td>\n",
       "      <td>TA1307000124</td>\n",
       "      <td>41.881130</td>\n",
       "      <td>...</td>\n",
       "      <td>2022-01-01 00:21:08</td>\n",
       "      <td>0 days 00:21:29</td>\n",
       "      <td>2021-12-31 00:00:00</td>\n",
       "      <td>Thursday</td>\n",
       "      <td>2.914102e-04</td>\n",
       "      <td>1.015888e-07</td>\n",
       "      <td>0.017074</td>\n",
       "      <td>2021</td>\n",
       "      <td>12</td>\n",
       "      <td>0 days 00:21:29</td>\n",
       "    </tr>\n",
       "    <tr>\n",
       "      <th>4588301</th>\n",
       "      <td>100735</td>\n",
       "      <td>297D1BD291D07BF3</td>\n",
       "      <td>electric_bike</td>\n",
       "      <td>2021-12-31 23:59:48</td>\n",
       "      <td>2022-01-01 00:14:42</td>\n",
       "      <td>Dearborn St &amp; Monroe St</td>\n",
       "      <td>TA1305000006</td>\n",
       "      <td>Clark St &amp; Lake St</td>\n",
       "      <td>KA1503000012</td>\n",
       "      <td>41.880883</td>\n",
       "      <td>...</td>\n",
       "      <td>2022-01-01 00:14:42</td>\n",
       "      <td>0 days 00:14:54</td>\n",
       "      <td>2021-12-31 00:00:00</td>\n",
       "      <td>Thursday</td>\n",
       "      <td>2.639899e-05</td>\n",
       "      <td>1.205000e-06</td>\n",
       "      <td>0.005254</td>\n",
       "      <td>2021</td>\n",
       "      <td>12</td>\n",
       "      <td>0 days 00:14:54</td>\n",
       "    </tr>\n",
       "  </tbody>\n",
       "</table>\n",
       "<p>4588302 rows × 25 columns</p>\n",
       "</div>"
      ],
      "text/plain": [
       "         Unnamed: 0           ride_id  rideable_type           started_at  \\\n",
       "0             17801  FAC81448E15B3C05   classic_bike       2/1/2021 10:01   \n",
       "1             26708  D4795A47726841B2   classic_bike       2/1/2021 10:02   \n",
       "2             11071  85A06CF61EE5B1CE   classic_bike       2/1/2021 10:03   \n",
       "3              8671  61BBED9F6F7E0D9B   classic_bike       2/1/2021 10:04   \n",
       "4             42741  8237FF0F89A56016  electric_bike       2/1/2021 10:04   \n",
       "...             ...               ...            ...                  ...   \n",
       "4588297      131716  7B3D0E8AB0842D5E   classic_bike  2021-12-31 23:58:21   \n",
       "4588298      131717  B5AEBEF3B5F41C77  electric_bike  2021-12-31 23:58:45   \n",
       "4588299       47588  CE1BE016BCE85CCB  electric_bike  2021-12-31 23:59:27   \n",
       "4588300       52286  B0466FF51982DE4B  electric_bike  2021-12-31 23:59:39   \n",
       "4588301      100735  297D1BD291D07BF3  electric_bike  2021-12-31 23:59:48   \n",
       "\n",
       "                    ended_at                   start_station_name  \\\n",
       "0             2/1/2021 10:05                   Wells St & Polk St   \n",
       "1             2/1/2021 10:08                Dearborn St & Erie St   \n",
       "2             2/1/2021 10:14               Benson Ave & Church St   \n",
       "3             2/1/2021 10:15                  Wabash Ave & 9th St   \n",
       "4             2/1/2021 11:39  Orleans St & Merchandise Mart Plaza   \n",
       "...                      ...                                  ...   \n",
       "4588297  2022-01-01 00:46:56               Michigan Ave & Lake St   \n",
       "4588298  2022-01-01 00:47:07               Michigan Ave & Lake St   \n",
       "4588299  2022-01-01 00:32:34            Clark St & Ida B Wells Dr   \n",
       "4588300  2022-01-01 00:21:08                      Millennium Park   \n",
       "4588301  2022-01-01 00:14:42              Dearborn St & Monroe St   \n",
       "\n",
       "        start_station_id             end_station_name end_station_id  \\\n",
       "0                 SL-011       State St & Harrison St         SL-007   \n",
       "1                  13045    Franklin St & Chicago Ave          13017   \n",
       "2                    596  Chicago Ave & Washington St           E002   \n",
       "3           TA1309000010      Dearborn St & Monroe St   TA1305000006   \n",
       "4           TA1305000022        Wells St & Hubbard St   TA1307000151   \n",
       "...                  ...                          ...            ...   \n",
       "4588297     TA1305000011       Clinton St & Tilden St          13037   \n",
       "4588298     TA1305000011       Clinton St & Tilden St          13037   \n",
       "4588299     TA1305000009    Clark St & Ida B Wells Dr   TA1305000009   \n",
       "4588300            13008       Michigan Ave & 14th St   TA1307000124   \n",
       "4588301     TA1305000006           Clark St & Lake St   KA1503000012   \n",
       "\n",
       "         start_lat  ...             end_time      ride_length  \\\n",
       "0        41.872596  ...  2021-02-01 10:05:00  0 days 00:04:00   \n",
       "1        41.893992  ...  2021-02-01 10:08:00  0 days 00:06:00   \n",
       "2        42.048214  ...  2021-02-01 10:14:00  0 days 00:11:00   \n",
       "3        41.870769  ...  2021-02-01 10:15:00  0 days 00:11:00   \n",
       "4        41.887968  ...  2021-02-01 11:39:00  0 days 01:35:00   \n",
       "...            ...  ...                  ...              ...   \n",
       "4588297  41.886024  ...  2022-01-01 00:46:56  0 days 00:48:35   \n",
       "4588298  41.885992  ...  2022-01-01 00:47:07  0 days 00:48:22   \n",
       "4588299  41.875831  ...  2022-01-01 00:32:34  0 days 00:33:07   \n",
       "4588300  41.881130  ...  2022-01-01 00:21:08  0 days 00:21:29   \n",
       "4588301  41.880883  ...  2022-01-01 00:14:42  0 days 00:14:54   \n",
       "\n",
       "                  start_date  week_day             x             y  distance  \\\n",
       "0        2021-02-01 00:00:00    Sunday  2.122849e-06  3.347780e-05  0.005967   \n",
       "1        2021-02-01 00:00:00    Sunday  7.589860e-06  4.031767e-05  0.006922   \n",
       "2        2021-02-01 00:00:00    Sunday  2.449851e-04  1.921946e-05  0.016254   \n",
       "3        2021-02-01 00:00:00    Sunday  1.113198e-04  1.434076e-05  0.011210   \n",
       "4        2021-02-01 00:00:00    Sunday  2.815114e-06  6.047517e-06  0.002977   \n",
       "...                      ...       ...           ...           ...       ...   \n",
       "4588297  2021-12-31 00:00:00  Thursday  1.027993e-04  2.781557e-04  0.019518   \n",
       "4588298  2021-12-31 00:00:00  Thursday  1.021548e-04  2.564268e-04  0.018936   \n",
       "4588299  2021-12-31 00:00:00  Thursday  1.023446e-08  5.828780e-07  0.000770   \n",
       "4588300  2021-12-31 00:00:00  Thursday  2.914102e-04  1.015888e-07  0.017074   \n",
       "4588301  2021-12-31 00:00:00  Thursday  2.639899e-05  1.205000e-06  0.005254   \n",
       "\n",
       "         year month        ride_len  \n",
       "0        2021     2 0 days 00:04:00  \n",
       "1        2021     2 0 days 00:06:00  \n",
       "2        2021     2 0 days 00:11:00  \n",
       "3        2021     2 0 days 00:11:00  \n",
       "4        2021     2 0 days 01:35:00  \n",
       "...       ...   ...             ...  \n",
       "4588297  2021    12 0 days 00:48:35  \n",
       "4588298  2021    12 0 days 00:48:22  \n",
       "4588299  2021    12 0 days 00:33:07  \n",
       "4588300  2021    12 0 days 00:21:29  \n",
       "4588301  2021    12 0 days 00:14:54  \n",
       "\n",
       "[4588302 rows x 25 columns]"
      ]
     },
     "execution_count": 15,
     "metadata": {},
     "output_type": "execute_result"
    }
   ],
   "source": [
    "# Convert object datatype to timedelta\n",
    "C_bike_data['ride_len']=pd.to_timedelta(C_bike_data['ride_length'])\n",
    "C_bike_data"
   ]
  },
  {
   "cell_type": "code",
   "execution_count": 16,
   "id": "cbd83c0e",
   "metadata": {},
   "outputs": [
    {
     "data": {
      "text/plain": [
       "Unnamed: 0            0\n",
       "ride_id               0\n",
       "rideable_type         0\n",
       "started_at            0\n",
       "ended_at              0\n",
       "start_station_name    0\n",
       "start_station_id      0\n",
       "end_station_name      0\n",
       "end_station_id        0\n",
       "start_lat             0\n",
       "start_lng             0\n",
       "end_lat               0\n",
       "end_lng               0\n",
       "member_casual         0\n",
       "start_time            0\n",
       "end_time              0\n",
       "ride_length           0\n",
       "start_date            0\n",
       "week_day              0\n",
       "x                     0\n",
       "y                     0\n",
       "distance              0\n",
       "year                  0\n",
       "month                 0\n",
       "ride_len              0\n",
       "dtype: int64"
      ]
     },
     "execution_count": 16,
     "metadata": {},
     "output_type": "execute_result"
    }
   ],
   "source": [
    "# Checking for null values\n",
    "C_bike_data.isnull().sum()"
   ]
  },
  {
   "cell_type": "code",
   "execution_count": 17,
   "id": "8fde2e71",
   "metadata": {},
   "outputs": [
    {
     "data": {
      "text/plain": [
       "False"
      ]
     },
     "execution_count": 17,
     "metadata": {},
     "output_type": "execute_result"
    }
   ],
   "source": [
    "# Checking for  duplicate values\n",
    "C_bike_data.duplicated().any()"
   ]
  },
  {
   "cell_type": "markdown",
   "id": "1bca4a24",
   "metadata": {},
   "source": [
    "# Analysis of trend"
   ]
  },
  {
   "cell_type": "markdown",
   "id": "702600ee",
   "metadata": {},
   "source": [
    "### Analyzing the user trends based on the data from January 2021 to December 2021. "
   ]
  },
  {
   "cell_type": "markdown",
   "id": "ad3c4bbd",
   "metadata": {},
   "source": [
    "**Ride Length**"
   ]
  },
  {
   "cell_type": "code",
   "execution_count": 18,
   "id": "28a317f0",
   "metadata": {},
   "outputs": [
    {
     "data": {
      "text/plain": [
       "Timedelta('0 days 00:21:48.637278234')"
      ]
     },
     "execution_count": 18,
     "metadata": {},
     "output_type": "execute_result"
    }
   ],
   "source": [
    "# Calculating mean of ride length\n",
    "mean_rd_ln=C_bike_data[\"ride_len\"].mean()\n",
    "mean_rd_ln"
   ]
  },
  {
   "cell_type": "code",
   "execution_count": 19,
   "id": "7359e2f4",
   "metadata": {},
   "outputs": [
    {
     "data": {
      "text/plain": [
       "Timedelta('38 days 20:24:09')"
      ]
     },
     "execution_count": 19,
     "metadata": {},
     "output_type": "execute_result"
    }
   ],
   "source": [
    "# Maximum ride length\n",
    "max_rd_ln=C_bike_data[\"ride_len\"].max()\n",
    "max_rd_ln"
   ]
  },
  {
   "cell_type": "code",
   "execution_count": 21,
   "id": "4776fd8c",
   "metadata": {},
   "outputs": [],
   "source": [
    "# Mean ride length for member\n",
    "mean_rd_ln_member=C_bike_data[C_bike_data['member_casual']=='member']\n",
    "mean_rd_ln_member=mean_rd_ln_member['ride_len'].mean()"
   ]
  },
  {
   "cell_type": "code",
   "execution_count": 22,
   "id": "3334a87c",
   "metadata": {},
   "outputs": [
    {
     "data": {
      "text/plain": [
       "Timedelta('0 days 00:13:10.983204608')"
      ]
     },
     "execution_count": 22,
     "metadata": {},
     "output_type": "execute_result"
    }
   ],
   "source": [
    "mean_rd_ln_member"
   ]
  },
  {
   "cell_type": "code",
   "execution_count": 23,
   "id": "2c25eb8c",
   "metadata": {},
   "outputs": [
    {
     "data": {
      "text/plain": [
       "Timedelta('0 days 00:32:30.511407800')"
      ]
     },
     "execution_count": 23,
     "metadata": {},
     "output_type": "execute_result"
    }
   ],
   "source": [
    "# Mean ride length for Casual\n",
    "mean_rd_ln_casual=C_bike_data[C_bike_data['member_casual']=='casual']\n",
    "mean_rd_ln_casual=mean_rd_ln_casual['ride_len'].mean()\n",
    "mean_rd_ln_casual"
   ]
  },
  {
   "cell_type": "code",
   "execution_count": 36,
   "id": "49cfe91d",
   "metadata": {},
   "outputs": [
    {
     "data": {
      "text/plain": [
       "Timedelta('1 days 00:55:38')"
      ]
     },
     "execution_count": 36,
     "metadata": {},
     "output_type": "execute_result"
    }
   ],
   "source": [
    "# Calculating maximum ride length for members\n",
    "max_rd_ln_member=C_bike_data[C_bike_data['member_casual']=='member']\n",
    "max_rd_ln_member=max_rd_ln_member['ride_len'].max()\n",
    "max_rd_ln_member"
   ]
  },
  {
   "cell_type": "code",
   "execution_count": 24,
   "id": "16733d59",
   "metadata": {},
   "outputs": [
    {
     "data": {
      "text/plain": [
       "Timedelta('38 days 20:24:09')"
      ]
     },
     "execution_count": 24,
     "metadata": {},
     "output_type": "execute_result"
    }
   ],
   "source": [
    "# Calculating maximum ride length for casuals\n",
    "max_rd_ln_casual=C_bike_data[C_bike_data['member_casual']=='casual']\n",
    "max_rd_ln_casual=max_rd_ln_casual['ride_len'].max()\n",
    "max_rd_ln_casual"
   ]
  },
  {
   "cell_type": "markdown",
   "id": "de00f493",
   "metadata": {},
   "source": [
    "**Weekday**"
   ]
  },
  {
   "cell_type": "code",
   "execution_count": 25,
   "id": "4af2f420",
   "metadata": {},
   "outputs": [
    {
     "data": {
      "text/plain": [
       "0    Friday\n",
       "dtype: object"
      ]
     },
     "execution_count": 25,
     "metadata": {},
     "output_type": "execute_result"
    }
   ],
   "source": [
    "# mode of weekday \n",
    "mode_weekday=C_bike_data['week_day'].mode()\n",
    "mode_weekday"
   ]
  },
  {
   "cell_type": "code",
   "execution_count": 26,
   "id": "f1f878fb",
   "metadata": {},
   "outputs": [
    {
     "data": {
      "text/plain": [
       "0    Tuesday\n",
       "dtype: object"
      ]
     },
     "execution_count": 26,
     "metadata": {},
     "output_type": "execute_result"
    }
   ],
   "source": [
    "# mode of weekday for members\n",
    "mode_weekday_member=C_bike_data[C_bike_data['member_casual']=='member']\n",
    "mode_weekday_member=mode_weekday_member['week_day'].mode()\n",
    "mode_weekday_member"
   ]
  },
  {
   "cell_type": "code",
   "execution_count": 27,
   "id": "0d770d39",
   "metadata": {},
   "outputs": [
    {
     "data": {
      "text/plain": [
       "0    Friday\n",
       "dtype: object"
      ]
     },
     "execution_count": 27,
     "metadata": {},
     "output_type": "execute_result"
    }
   ],
   "source": [
    "# mode of weekday for casual\n",
    "mode_weekday_casual=C_bike_data[C_bike_data['member_casual']=='casual']\n",
    "mode_weekday_casual=mode_weekday_casual['week_day'].mode()\n",
    "mode_weekday_casual"
   ]
  },
  {
   "cell_type": "code",
   "execution_count": 28,
   "id": "d9c3e605",
   "metadata": {},
   "outputs": [
    {
     "data": {
      "text/plain": [
       "week_day\n",
       "0    575424\n",
       "1    603069\n",
       "2    615854\n",
       "3    597681\n",
       "4    655832\n",
       "5    825413\n",
       "6    715029\n",
       "Name: ride_id, dtype: int64"
      ]
     },
     "execution_count": 28,
     "metadata": {},
     "output_type": "execute_result"
    }
   ],
   "source": [
    "dict1={'Sunday':0,'Monday':1,'Tuesday':2,'Wednesday':3,'Thursday':4,'Friday':5,'Saturday':6}\n",
    "C_bike_data['week_day']=C_bike_data['week_day'].apply(lambda y:dict1[y])\n",
    "\n",
    "count_users_weekday=C_bike_data.groupby('week_day')['ride_id'].count()\n",
    "count_users_weekday=count_users_weekday.sort_index()\n",
    "count_users_weekday"
   ]
  },
  {
   "cell_type": "code",
   "execution_count": 29,
   "id": "89104669",
   "metadata": {},
   "outputs": [
    {
     "data": {
      "text/plain": [
       "week_day\n",
       "0    346488\n",
       "1    388132\n",
       "2    397720\n",
       "3    373474\n",
       "4    365787\n",
       "5    357082\n",
       "6    311240\n",
       "Name: ride_id, dtype: int64"
      ]
     },
     "execution_count": 29,
     "metadata": {},
     "output_type": "execute_result"
    }
   ],
   "source": [
    "# For member\n",
    "count_member_weekday=C_bike_data[C_bike_data['member_casual']=='member'].groupby('week_day')['ride_id'].count()\n",
    "count_member_weekday"
   ]
  },
  {
   "cell_type": "code",
   "execution_count": 30,
   "id": "2b5a750a",
   "metadata": {},
   "outputs": [
    {
     "data": {
      "text/plain": [
       "week_day\n",
       "0    228936\n",
       "1    214937\n",
       "2    218134\n",
       "3    224207\n",
       "4    290045\n",
       "5    468331\n",
       "6    403789\n",
       "Name: ride_id, dtype: int64"
      ]
     },
     "execution_count": 30,
     "metadata": {},
     "output_type": "execute_result"
    }
   ],
   "source": [
    "# For casual\n",
    "count_casual_weekday=C_bike_data[C_bike_data['member_casual']=='casual'].groupby('week_day')['ride_id'].count()\n",
    "count_casual_weekday"
   ]
  },
  {
   "cell_type": "code",
   "execution_count": 31,
   "id": "827ca2cb",
   "metadata": {},
   "outputs": [
    {
     "data": {
      "image/png": "[encoded data removed]",
      "text/plain": [
       "<Figure size 576x432 with 1 Axes>"
      ]
     },
     "metadata": {
      "needs_background": "light"
     },
     "output_type": "display_data"
    }
   ],
   "source": [
    "# Plotting the graph for different users on different weekdays\n",
    "plt.figure(figsize=(8,6))\n",
    "plt.plot(count_users_weekday.index,count_users_weekday.values)\n",
    "plt.plot(count_member_weekday.index,count_member_weekday.values)\n",
    "plt.plot(count_casual_weekday.index,count_casual_weekday.values)\n",
    "plt.title('No. of rides for different users on different weekday')\n",
    "plt.legend(['user','member','casual'])\n",
    "labels=['Sunday','Monday','Tuesday','Wednesday','Thursdsay','Friday','Saturday']\n",
    "plt.xticks(count_casual_weekday.index,labels)\n",
    "plt.xlabel('Weekdays')\n",
    "plt.ylabel('No. of users')\n",
    "plt.show()\n"
   ]
  },
  {
   "cell_type": "code",
   "execution_count": 32,
   "id": "61f2c8c6",
   "metadata": {},
   "outputs": [
    {
     "data": {
      "text/plain": [
       "week_day\n",
       "0   0 days 00:20:38.804040151\n",
       "1   0 days 00:18:14.280241564\n",
       "2   0 days 00:18:03.448562483\n",
       "3   0 days 00:18:13.619424074\n",
       "4   0 days 00:20:48.496892496\n",
       "5   0 days 00:26:11.801361257\n",
       "6   0 days 00:27:50.684407205\n",
       "Name: ride_len, dtype: timedelta64[ns]"
      ]
     },
     "execution_count": 32,
     "metadata": {},
     "output_type": "execute_result"
    }
   ],
   "source": [
    "# Average ride length by weekday\n",
    "user_avg_ride_len_weekday=C_bike_data.groupby('week_day')['ride_len'].mean(numeric_only=False)\n",
    "user_avg_ride_len_weekday"
   ]
  },
  {
   "cell_type": "code",
   "execution_count": 33,
   "id": "7c52019e",
   "metadata": {},
   "outputs": [
    {
     "data": {
      "text/plain": [
       "week_day\n",
       "0      0 days 00:12:43.482389\n",
       "1   0 days 00:12:23.257036266\n",
       "2   0 days 00:12:27.410545107\n",
       "3   0 days 00:12:21.214127355\n",
       "4   0 days 00:12:47.525051464\n",
       "5   0 days 00:14:49.156686699\n",
       "6   0 days 00:15:11.451763912\n",
       "Name: ride_len, dtype: timedelta64[ns]"
      ]
     },
     "execution_count": 33,
     "metadata": {},
     "output_type": "execute_result"
    }
   ],
   "source": [
    "# Average ride length for members by weekdays\n",
    "member_avg_ride_len_weekday=C_bike_data[C_bike_data['member_casual']=='member'].groupby('week_day')['ride_len'].mean(numeric_only=False)\n",
    "member_avg_ride_len_weekday"
   ]
  },
  {
   "cell_type": "code",
   "execution_count": 34,
   "id": "802bf9c6",
   "metadata": {},
   "outputs": [
    {
     "data": {
      "text/plain": [
       "week_day\n",
       "0   0 days 00:32:38.189581367\n",
       "1   0 days 00:28:48.155929411\n",
       "2   0 days 00:28:16.140945473\n",
       "3   0 days 00:28:00.640417114\n",
       "4   0 days 00:30:55.069137547\n",
       "5   0 days 00:34:52.288208553\n",
       "6   0 days 00:37:35.899873448\n",
       "Name: ride_len, dtype: timedelta64[ns]"
      ]
     },
     "execution_count": 34,
     "metadata": {},
     "output_type": "execute_result"
    }
   ],
   "source": [
    "# Average ride length for casual by weekdays\n",
    "casual_avg_ride_len_weekday=C_bike_data[C_bike_data['member_casual']=='casual'].groupby('week_day')['ride_len'].mean(numeric_only=False)\n",
    "casual_avg_ride_len_weekday"
   ]
  },
  {
   "cell_type": "code",
   "execution_count": 35,
   "id": "6f3baab9",
   "metadata": {},
   "outputs": [
    {
     "data": {
      "image/png": "[encoded data removed]",
      "text/plain": [
       "<Figure size 576x432 with 1 Axes>"
      ]
     },
     "metadata": {
      "needs_background": "light"
     },
     "output_type": "display_data"
    }
   ],
   "source": [
    "# Plotting graph of weekday vs average ride length\n",
    "plt.figure(figsize=(8,6))\n",
    "plt.plot(user_avg_ride_len_weekday/pd.Timedelta(minutes=1))\n",
    "plt.plot(member_avg_ride_len_weekday/pd.Timedelta(minutes=1))\n",
    "plt.plot(casual_avg_ride_len_weekday/pd.Timedelta(minutes=1))\n",
    "plt.title('Average ride length for different users')\n",
    "plt.legend(['user','member','casual'])\n",
    "labels=['Sunday','Monday','Tuesday','Wednesday','Thursdsay','Friday','Saturday']\n",
    "plt.xticks(user_avg_ride_len_weekday.index,labels)\n",
    "plt.xlabel('Weekdays')\n",
    "plt.ylabel('Average ride length')\n",
    "plt.show()"
   ]
  },
  {
   "cell_type": "code",
   "execution_count": 36,
   "id": "fbf15f50",
   "metadata": {},
   "outputs": [
    {
     "name": "stdout",
     "output_type": "stream",
     "text": [
      "<class 'pandas.core.frame.DataFrame'>\n",
      "RangeIndex: 4588302 entries, 0 to 4588301\n",
      "Data columns (total 8 columns):\n",
      " #   Column         Dtype          \n",
      "---  ------         -----          \n",
      " 0   ride_id        object         \n",
      " 1   rideable_type  object         \n",
      " 2   ride_len       timedelta64[ns]\n",
      " 3   week_day       int64          \n",
      " 4   distance       float64        \n",
      " 5   year           int64          \n",
      " 6   month          int64          \n",
      " 7   member_casual  object         \n",
      "dtypes: float64(1), int64(3), object(3), timedelta64[ns](1)\n",
      "memory usage: 280.0+ MB\n"
     ]
    }
   ],
   "source": [
    "# Making a new dataframe of only required attributes\n",
    "b_data=C_bike_data[['ride_id','rideable_type','ride_len','week_day','distance','year','month','member_casual']]\n",
    "b_data.info()"
   ]
  },
  {
   "cell_type": "code",
   "execution_count": 39,
   "id": "6472e39f",
   "metadata": {},
   "outputs": [
    {
     "data": {
      "text/plain": [
       "member    2539923\n",
       "casual    2048379\n",
       "Name: member_casual, dtype: int64"
      ]
     },
     "execution_count": 39,
     "metadata": {},
     "output_type": "execute_result"
    }
   ],
   "source": [
    "# Number of user types\n",
    "member_type=b_data['member_casual'].value_counts()\n",
    "member_type"
   ]
  },
  {
   "cell_type": "code",
   "execution_count": 45,
   "id": "ea258df4",
   "metadata": {},
   "outputs": [
    {
     "data": {
      "image/png": "[encoded data removed]",
      "text/plain": [
       "<Figure size 432x288 with 1 Axes>"
      ]
     },
     "metadata": {
      "needs_background": "light"
     },
     "output_type": "display_data"
    }
   ],
   "source": [
    "plt.bar(member_type.index,member_type.values,color='g')\n",
    "plt.title(\"Number of user type\")\n",
    "plt.xlabel(\"User_type\")\n",
    "plt.ylabel(\"Number\")\n",
    "plt.show()"
   ]
  },
  {
   "cell_type": "code",
   "execution_count": 54,
   "id": "17c2b7a4",
   "metadata": {},
   "outputs": [
    {
     "data": {
      "image/png": "[encoded data removed]",
      "text/plain": [
       "<Figure size 576x576 with 1 Axes>"
      ]
     },
     "metadata": {},
     "output_type": "display_data"
    }
   ],
   "source": [
    "# plotting pie chart\n",
    "plt.figure(figsize=(8,8))\n",
    "plt.pie(member_type.values,labels=member_type.index,radius=1, explode=[0,0.08],shadow=True,autopct='%1.1f%%')\n",
    "plt.title(\"Percentage of users in each type\")\n",
    "plt.legend(member_type.index)\n",
    "plt.show()"
   ]
  },
  {
   "cell_type": "markdown",
   "id": "3df85ea4",
   "metadata": {},
   "source": [
    "## Number of members and casual riders over month "
   ]
  },
  {
   "cell_type": "code",
   "execution_count": 69,
   "id": "491a6d31",
   "metadata": {},
   "outputs": [
    {
     "data": {
      "text/plain": [
       "month  member_casual\n",
       "1      member            68819\n",
       "       casual            14690\n",
       "2      member            34383\n",
       "       casual             8613\n",
       "3      member           130049\n",
       "       casual            75642\n",
       "4      member           177787\n",
       "       casual           120420\n",
       "5      member           234165\n",
       "       casual           216829\n",
       "6      member           304586\n",
       "       casual           304192\n",
       "7      casual           369415\n",
       "       member           322906\n",
       "8      casual           341476\n",
       "       member           332933\n",
       "9      member           328219\n",
       "       casual           292931\n",
       "10     member           288855\n",
       "       casual           189117\n",
       "11     member           185926\n",
       "       casual            69978\n",
       "12     member           131295\n",
       "       casual            45076\n",
       "Name: member_casual, dtype: int64"
      ]
     },
     "execution_count": 69,
     "metadata": {},
     "output_type": "execute_result"
    }
   ],
   "source": [
    "# Number of users over month\n",
    "\n",
    "users_over_month=b_data.groupby('month')['member_casual'].value_counts()\n",
    "users_over_month\n"
   ]
  },
  {
   "cell_type": "code",
   "execution_count": 70,
   "id": "b6914620",
   "metadata": {},
   "outputs": [],
   "source": [
    "# To segregate the number of users into member or casual riders over months\n",
    "list_month=[]\n",
    "list_x=[]\n",
    "list_y=list(users_over_month.values)\n",
    "for i,j in users_over_month.index:\n",
    "    list_x.append(j)\n",
    "    list_month.append(str(i))"
   ]
  },
  {
   "cell_type": "code",
   "execution_count": 72,
   "id": "6e8b77a9",
   "metadata": {},
   "outputs": [
    {
     "name": "stderr",
     "output_type": "stream",
     "text": [
      "C:\\Users\\Somal Verma\\anaconda3\\lib\\site-packages\\seaborn\\_decorators.py:36: FutureWarning: Pass the following variables as keyword args: x, y. From version 0.12, the only valid positional argument will be `data`, and passing other arguments without an explicit keyword will result in an error or misinterpretation.\n",
      "  warnings.warn(\n"
     ]
    },
    {
     "data": {
      "text/plain": [
       "Text(0.5, 1.0, 'Number of members and casual riders over the months')"
      ]
     },
     "execution_count": 72,
     "metadata": {},
     "output_type": "execute_result"
    },
    {
     "data": {
      "image/png": "[encoded data removed]",
      "text/plain": [
       "<Figure size 1152x576 with 1 Axes>"
      ]
     },
     "metadata": {
      "needs_background": "light"
     },
     "output_type": "display_data"
    }
   ],
   "source": [
    "# Plot count of member and casual riders over the months\n",
    "plt.figure(figsize=(16,8))\n",
    "sns.barplot(list_x, list_y, hue=list_month)\n",
    "plt.title('Number of members and casual riders over the months')"
   ]
  },
  {
   "cell_type": "markdown",
   "id": "1cbfc1bb",
   "metadata": {},
   "source": [
    "## Bike preference by user type"
   ]
  },
  {
   "cell_type": "code",
   "execution_count": 74,
   "id": "4097e55c",
   "metadata": {},
   "outputs": [
    {
     "data": {
      "text/plain": [
       "member_casual  rideable_type\n",
       "casual         classic_bike     1261558\n",
       "               electric_bike     474773\n",
       "               docked_bike       312048\n",
       "member         classic_bike     1980430\n",
       "               electric_bike     559492\n",
       "               docked_bike            1\n",
       "Name: rideable_type, dtype: int64"
      ]
     },
     "execution_count": 74,
     "metadata": {},
     "output_type": "execute_result"
    }
   ],
   "source": [
    "# Number of Users for a particular rideable type\n",
    "ride_type=b_data.groupby('member_casual')['rideable_type'].value_counts()\n",
    "ride_type"
   ]
  },
  {
   "cell_type": "code",
   "execution_count": 75,
   "id": "8e21db41",
   "metadata": {},
   "outputs": [],
   "source": [
    "list_member=[]\n",
    "list_x=[]\n",
    "list_y=list(ride_type.values)\n",
    "for i,j in ride_type.index:\n",
    "    list_x.append(j)\n",
    "    list_member.append(str(i))"
   ]
  },
  {
   "cell_type": "code",
   "execution_count": 76,
   "id": "efc8b78d",
   "metadata": {},
   "outputs": [
    {
     "name": "stderr",
     "output_type": "stream",
     "text": [
      "C:\\Users\\Somal Verma\\anaconda3\\lib\\site-packages\\seaborn\\_decorators.py:36: FutureWarning: Pass the following variables as keyword args: x, y. From version 0.12, the only valid positional argument will be `data`, and passing other arguments without an explicit keyword will result in an error or misinterpretation.\n",
      "  warnings.warn(\n"
     ]
    },
    {
     "data": {
      "image/png": "[encoded data removed]",
      "text/plain": [
       "<Figure size 864x576 with 1 Axes>"
      ]
     },
     "metadata": {
      "needs_background": "light"
     },
     "output_type": "display_data"
    }
   ],
   "source": [
    "plt.figure(figsize=(12,8))\n",
    "sns.barplot(list_x,list_y,hue=list_member)\n",
    "plt.title(\"Number of member and casual riders of different rideable types\")\n",
    "plt.show()"
   ]
  },
  {
   "cell_type": "markdown",
   "id": "0ff602d1",
   "metadata": {},
   "source": [
    "**Classic Bike** is the most preferred bike type among both casual riders and annual members."
   ]
  },
  {
   "cell_type": "markdown",
   "id": "39f6d30f",
   "metadata": {},
   "source": [
    "## Key findings"
   ]
  },
  {
   "cell_type": "markdown",
   "id": "7655dde2",
   "metadata": {},
   "source": [
    "1. Annual members(55.4%) made more trips than casuals(44.6%).\n",
    "2. Number of users in summer season is more and less in winters which means the demand for bike increases during summer period and decreases in winters.\n",
    "3. Classic bikers are more in numbers, there are significant number of electric bikers however very few docked bikers.\n",
    "   Members prefer classic and electric bikes however some casual users use docked bike as well.\n",
    "4. Friday is most popular among casual riders whereas more annual members rides on tuesday."
   ]
  },
  {
   "cell_type": "markdown",
   "id": "15585746",
   "metadata": {},
   "source": [
    "## Recommendation"
   ]
  },
  {
   "cell_type": "markdown",
   "id": "d074b8ce",
   "metadata": {},
   "source": [
    "1. Increase marketing campaigns during summer season.\n",
    "2. Offer an annual membership to weekday riders to increase number of annual members. \n",
    "3. Since the casual riders prefer to take longer trips averaging 32 minutes compared to annual members who average only 13 minutes. Members only rewards program can be introduced based on the trip duration to incentivize casual riders to sign up as members and be eligible for rewards."
   ]
  },
  {
   "cell_type": "code",
   "execution_count": null,
   "id": "73611ed8",
   "metadata": {},
   "outputs": [],
   "source": []
  }
 ],
 "metadata": {
  "kernelspec": {
   "display_name": "Python 3",
   "language": "python",
   "name": "python3"
  },
  "language_info": {
   "codemirror_mode": {
    "name": "ipython",
    "version": 3
   },
   "file_extension": ".py",
   "mimetype": "text/x-python",
   "name": "python",
   "nbconvert_exporter": "python",
   "pygments_lexer": "ipython3",
   "version": "3.8.8"
  }
 },
 "nbformat": 4,
 "nbformat_minor": 5
}
